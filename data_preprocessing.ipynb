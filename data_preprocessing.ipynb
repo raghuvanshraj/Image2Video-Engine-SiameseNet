{
 "cells": [
  {
   "cell_type": "code",
   "execution_count": 11,
   "metadata": {},
   "outputs": [],
   "source": [
    "import glob\n",
    "import os\n",
    "import skimage\n",
    "import skimage.io as io\n",
    "import numpy as np\n",
    "import datetime"
   ]
  },
  {
   "cell_type": "code",
   "execution_count": 4,
   "metadata": {},
   "outputs": [],
   "source": [
    "os.chdir('data/images')"
   ]
  },
  {
   "cell_type": "markdown",
   "metadata": {},
   "source": [
    "## Copies files from /raw to /images/subdir"
   ]
  },
  {
   "cell_type": "code",
   "execution_count": 6,
   "metadata": {},
   "outputs": [],
   "source": [
    "from shutil import copyfile"
   ]
  },
  {
   "cell_type": "code",
   "execution_count": 7,
   "metadata": {},
   "outputs": [],
   "source": [
    "for i in range(1,13):\n",
    "    source_file = os.path.join('raw', str(i) + '.png')\n",
    "    dest_file = os.path.join(str(i), 'sample.png')\n",
    "    copyfile(src=source_file, dst=dest_file)"
   ]
  },
  {
   "cell_type": "markdown",
   "metadata": {},
   "source": [
    "## CAUTION: To be run only to apply resizing on image"
   ]
  },
  {
   "cell_type": "code",
   "execution_count": 8,
   "metadata": {},
   "outputs": [],
   "source": [
    "def resize_and_pad_img(img):\n",
    "    img_dims = img.shape\n",
    "    if img_dims[0] > img_dims[1]:\n",
    "        diff = img_dims[0] - img_dims[1]\n",
    "        pad_width = diff // 2\n",
    "        img_padded = skimage.util.pad(img, [(0,0), (pad_width, pad_width), (0,0)], mode='constant', constant_values=255)\n",
    "            \n",
    "    elif img_dims[0] < img_dims[1]:\n",
    "        diff = img_dims[1] - img_dims[0]\n",
    "        pad_width = diff // 2\n",
    "        img_padded = skimage.util.pad(img, [(pad_width, pad_width), (0,0), (0,0)], mode='constant', constant_values=255)\n",
    "        \n",
    "    else:\n",
    "        img_padded = img\n",
    "        \n",
    "    return skimage.transform.resize(img_padded, (300,300,3))"
   ]
  },
  {
   "cell_type": "code",
   "execution_count": 9,
   "metadata": {},
   "outputs": [],
   "source": [
    "def apply_resizing(subdir):\n",
    "    img_names = glob.glob(os.path.join(subdir, '*.png'))\n",
    "    for img_name in img_names:\n",
    "        curr_img = io.imread(img_name)\n",
    "        resized_img = resize_and_pad_img(curr_img)\n",
    "        io.imsave(os.path.join(img_name), resized_img)"
   ]
  },
  {
   "cell_type": "code",
   "execution_count": 12,
   "metadata": {},
   "outputs": [
    {
     "name": "stderr",
     "output_type": "stream",
     "text": [
      "/home/raghuvansh/anaconda3/lib/python3.6/site-packages/skimage/transform/_warps.py:105: UserWarning: The default mode, 'constant', will be changed to 'reflect' in skimage 0.15.\n",
      "  warn(\"The default mode, 'constant', will be changed to 'reflect' in \"\n",
      "/home/raghuvansh/anaconda3/lib/python3.6/site-packages/skimage/transform/_warps.py:110: UserWarning: Anti-aliasing will be enabled by default in skimage 0.15 to avoid aliasing artifacts when down-sampling images.\n",
      "  warn(\"Anti-aliasing will be enabled by default in skimage 0.15 to \"\n",
      "/home/raghuvansh/anaconda3/lib/python3.6/site-packages/skimage/util/dtype.py:141: UserWarning: Possible precision loss when converting from float64 to uint8\n",
      "  .format(dtypeobj_in, dtypeobj_out))\n"
     ]
    }
   ],
   "source": [
    "for i in range(1,13):\n",
    "    apply_resizing(str(i))"
   ]
  },
  {
   "cell_type": "markdown",
   "metadata": {},
   "source": [
    "## Transforms"
   ]
  },
  {
   "cell_type": "code",
   "execution_count": 13,
   "metadata": {},
   "outputs": [],
   "source": [
    "def apply_transforms(subdir, curr_comb):\n",
    "    img_path = os.path.join(subdir, 'sample.png')\n",
    "    img = io.imread(img_path)\n",
    "        \n",
    "    if 'noise' in curr_comb:\n",
    "        img = skimage.util.random_noise(img)\n",
    "            \n",
    "    if 'l_rotate' in curr_comb:\n",
    "        img = skimage.transform.rotate(img, angle=-30, mode='constant', cval=1)\n",
    "        \n",
    "    if 'r_rotate' in curr_comb:\n",
    "        img = skimage.transform.rotate(img, angle=30, mode='constant', cval=1)\n",
    "            \n",
    "    if 'l_crop' in curr_comb:\n",
    "        img = skimage.util.crop(img, [(0,50), (0,0), (0,0)])\n",
    "        img = skimage.transform.resize(img, (300, 300), anti_aliasing=True)\n",
    "        \n",
    "    if 'r_crop' in curr_comb:\n",
    "        img = skimage.util.crop(img, [(5,0), (0,0), (0,0)])\n",
    "        img = skimage.transform.resize(img, (300, 300), anti_aliasing=True)\n",
    "        \n",
    "    io.imsave(os.path.join(subdir, datetime.datetime.strftime(datetime.datetime.now(), '%M%S%f.png')), img)\n"
   ]
  },
  {
   "cell_type": "code",
   "execution_count": 14,
   "metadata": {},
   "outputs": [],
   "source": [
    "operations = ['noise', 'l_rotate', 'r_rotate', 'l_crop', 'r_crop']"
   ]
  },
  {
   "cell_type": "code",
   "execution_count": 15,
   "metadata": {},
   "outputs": [],
   "source": [
    "from itertools import combinations"
   ]
  },
  {
   "cell_type": "code",
   "execution_count": 16,
   "metadata": {
    "scrolled": true
   },
   "outputs": [
    {
     "name": "stdout",
     "output_type": "stream",
     "text": [
      "Processing folder 1...\n"
     ]
    },
    {
     "name": "stderr",
     "output_type": "stream",
     "text": [
      "/home/raghuvansh/anaconda3/lib/python3.6/site-packages/skimage/util/dtype.py:141: UserWarning: Possible precision loss when converting from float64 to uint8\n",
      "  .format(dtypeobj_in, dtypeobj_out))\n",
      "/home/raghuvansh/anaconda3/lib/python3.6/site-packages/skimage/transform/_warps.py:105: UserWarning: The default mode, 'constant', will be changed to 'reflect' in skimage 0.15.\n",
      "  warn(\"The default mode, 'constant', will be changed to 'reflect' in \"\n"
     ]
    },
    {
     "name": "stdout",
     "output_type": "stream",
     "text": [
      "Processing folder 2...\n",
      "Processing folder 3...\n",
      "Processing folder 4...\n",
      "Processing folder 5...\n",
      "Processing folder 6...\n",
      "Processing folder 7...\n",
      "Processing folder 8...\n",
      "Processing folder 9...\n",
      "Processing folder 10...\n",
      "Processing folder 11...\n",
      "Processing folder 12...\n",
      "Processing folder 1...\n",
      "Processing folder 2...\n",
      "Processing folder 3...\n",
      "Processing folder 4...\n",
      "Processing folder 5...\n",
      "Processing folder 6...\n",
      "Processing folder 7...\n",
      "Processing folder 8...\n",
      "Processing folder 9...\n",
      "Processing folder 10...\n",
      "Processing folder 11...\n",
      "Processing folder 12...\n",
      "Processing folder 1...\n",
      "Processing folder 2...\n",
      "Processing folder 3...\n",
      "Processing folder 4...\n",
      "Processing folder 5...\n",
      "Processing folder 6...\n",
      "Processing folder 7...\n",
      "Processing folder 8...\n",
      "Processing folder 9...\n",
      "Processing folder 10...\n",
      "Processing folder 11...\n",
      "Processing folder 12...\n",
      "Processing folder 1...\n",
      "Processing folder 2...\n",
      "Processing folder 3...\n",
      "Processing folder 4...\n",
      "Processing folder 5...\n",
      "Processing folder 6...\n",
      "Processing folder 7...\n",
      "Processing folder 8...\n",
      "Processing folder 9...\n",
      "Processing folder 10...\n",
      "Processing folder 11...\n",
      "Processing folder 12...\n",
      "Processing folder 1...\n",
      "Processing folder 2...\n",
      "Processing folder 3...\n",
      "Processing folder 4...\n",
      "Processing folder 5...\n",
      "Processing folder 6...\n",
      "Processing folder 7...\n",
      "Processing folder 8...\n",
      "Processing folder 9...\n",
      "Processing folder 10...\n",
      "Processing folder 11...\n",
      "Processing folder 12...\n"
     ]
    }
   ],
   "source": [
    "for i in range(1, len(operations)+1):\n",
    "    comb = list(combinations(operations, i))\n",
    "    for j in range(1,13):\n",
    "        print(f'Processing folder {j}...')\n",
    "        for curr_comb in comb:\n",
    "            apply_transforms(str(j), curr_comb)"
   ]
  },
  {
   "cell_type": "markdown",
   "metadata": {},
   "source": [
    "## CAUTION: Deletes all files"
   ]
  },
  {
   "cell_type": "code",
   "execution_count": 5,
   "metadata": {},
   "outputs": [],
   "source": [
    "for i in range(1,13):\n",
    "    filenames = glob.glob(os.path.join(str(i), '*.png'))\n",
    "    for file in filenames:    \n",
    "        os.remove(file)"
   ]
  },
  {
   "cell_type": "markdown",
   "metadata": {},
   "source": [
    "## Size reduction for easy data loading"
   ]
  },
  {
   "cell_type": "code",
   "execution_count": 3,
   "metadata": {},
   "outputs": [],
   "source": [
    "def reduce_size(subdir, new_size):\n",
    "    img_names = glob.glob(os.path.join(subdir, '*.png'))\n",
    "    for img_name in img_names:\n",
    "        img = io.imread(img_name)\n",
    "        img = skimage.transform.resize(img, new_size)\n",
    "        io.imsave(img_name, img)"
   ]
  },
  {
   "cell_type": "code",
   "execution_count": 4,
   "metadata": {
    "scrolled": false
   },
   "outputs": [
    {
     "name": "stderr",
     "output_type": "stream",
     "text": [
      "/home/raghuvansh/anaconda3/lib/python3.6/site-packages/skimage/transform/_warps.py:105: UserWarning: The default mode, 'constant', will be changed to 'reflect' in skimage 0.15.\n",
      "  warn(\"The default mode, 'constant', will be changed to 'reflect' in \"\n",
      "/home/raghuvansh/anaconda3/lib/python3.6/site-packages/skimage/transform/_warps.py:110: UserWarning: Anti-aliasing will be enabled by default in skimage 0.15 to avoid aliasing artifacts when down-sampling images.\n",
      "  warn(\"Anti-aliasing will be enabled by default in skimage 0.15 to \"\n",
      "/home/raghuvansh/anaconda3/lib/python3.6/site-packages/skimage/util/dtype.py:141: UserWarning: Possible precision loss when converting from float64 to uint8\n",
      "  .format(dtypeobj_in, dtypeobj_out))\n"
     ]
    }
   ],
   "source": [
    "for i in range(1,13):\n",
    "    reduce_size(str(i), (100, 100))"
   ]
  },
  {
   "cell_type": "code",
   "execution_count": null,
   "metadata": {},
   "outputs": [],
   "source": []
  }
 ],
 "metadata": {
  "kernelspec": {
   "display_name": "Python 3",
   "language": "python",
   "name": "python3"
  },
  "language_info": {
   "codemirror_mode": {
    "name": "ipython",
    "version": 3
   },
   "file_extension": ".py",
   "mimetype": "text/x-python",
   "name": "python",
   "nbconvert_exporter": "python",
   "pygments_lexer": "ipython3",
   "version": "3.6.5"
  }
 },
 "nbformat": 4,
 "nbformat_minor": 2
}
